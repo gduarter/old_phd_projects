{
 "cells": [
  {
   "cell_type": "code",
   "execution_count": 1,
   "metadata": {
    "collapsed": true
   },
   "outputs": [],
   "source": [
    "# Import stuff\n",
    "import numpy as np\n",
    "import matplotlib.pyplot as pl\n",
    "import os, pickle\n",
    "import random\n",
    "\n",
    "import smarty\n",
    "from copy import deepcopy\n",
    "from smarty import *\n",
    "from smarty import forcefield\n",
    "from samplingtools import *\n",
    "import openeye\n",
    "from openeye import oechem\n",
    "from smarty.utils import get_data_filename"
   ]
  },
  {
   "cell_type": "code",
   "execution_count": 3,
   "metadata": {
    "collapsed": false
   },
   "outputs": [
    {
     "name": "stderr",
     "output_type": "stream",
     "text": [
      "/Users/guilhermematos/anaconda/lib/python2.7/site-packages/ipykernel/kernelbase.py:43: DeprecationWarning: IPythonKernel._eventloop_changed is deprecated: use @observe and @unobserve instead.\n",
      "  def _eventloop_changed(self, name, old, new):\n"
     ]
    }
   ],
   "source": [
    "%matplotlib inline"
   ]
  },
  {
   "cell_type": "code",
   "execution_count": 4,
   "metadata": {
    "collapsed": true
   },
   "outputs": [],
   "source": [
    "# Functions\n",
    "def calculate_energies(smirk, key,\n",
    "                       modify_key_by_type,\n",
    "                       prange, number_of_points,\n",
    "                       copyff, oemol, topology):\n",
    "    xaxis = np.linspace(prange[key][0],prange[key][1], number_of_points)\n",
    "    energies = np.zeros(len(xaxis))\n",
    "    params = copyff.getParameter(smirks=smirk)\n",
    "    backup = params.copy()\n",
    "    for idx, element in enumerate(xaxis):\n",
    "        params[key] = str(element)\n",
    "        copyff.setParameter(params,smirks=smirk)\n",
    "        system = copyff.createSystem(topology, [oemol])\n",
    "        cpos = reformat_oemol_coordinates(oemol)\n",
    "        energies[idx] = get_energy(system,cpos[:,:,0])\n",
    "    return xaxis, energies\n",
    "\n",
    "def plot_data(xaxis,yaxis,legend,smirks_tuple,yaxis_name):\n",
    "    fig = pl.figure(figsize=(3.25,3.25))\n",
    "    ax = fig.add_subplot(111)\n",
    "    ax.plot(xaxis,yaxis,'bo',label=legend)\n",
    "    ax.set_xlabel(key)\n",
    "    ax.set_ylabel(yaxis_name)\n",
    "    if smirks_tuple[1] > 35:\n",
    "        title = smirks_tuple[1][:35]+'\\n'+smirks_tuple[1][35:]\n",
    "    else:\n",
    "        title = smirks_tuple[1]\n",
    "    ax.set_title(title,fontsize=10)\n",
    "    pl.tight_layout()\n",
    "    pl.savefig(\"%s_%s_%s.pdf\" % (smirks_tuple[0],key,yaxis_name))\n",
    "    pl.close(fig)\n",
    "    return\n",
    "\n",
    "def gaussian(mean, std, x):\n",
    "    y = (1/(std *np.sqrt(2*np.pi)))*np.exp(-0.5*((x-mean)/std)**2)\n",
    "    return y\n",
    "\n",
    "def log_likelihood( z, mu, s_E):\n",
    "    \"\"\"Calculate a log likelihood and a likelihood given a calculated value, a set of `measured`/observed values\n",
    "        (data we are fitting to) and a standard error in those measured values.\n",
    "        \n",
    "        \n",
    "        Parameters\n",
    "        ----------\n",
    "        z : simtk.unit.Quantity of dimensions N\n",
    "        Calculated values\n",
    "        mu : simtk.unit.Quantity of dimensions N\n",
    "        Mean (i.e. observed/measured values)\n",
    "        s_E : simtk.unit.Quantity of dimensions N\n",
    "        Standard error in the mean (uncertainty in observed/measured values)\n",
    "        \n",
    "        Returns\n",
    "        -------\n",
    "        loglike : float\n",
    "        Natural logarithm of likelihood\n",
    "        like : float\n",
    "        Likelihood\n",
    "        \"\"\"\n",
    "    # Adapted from https://github.com/shirtsgroup/lj_bayesian/blob/041b896d37f91f4b42cccb2df73af84a9cf5b917/generate_posterior.py#L117\n",
    "    \n",
    "    \n",
    "    # Standardize units of input and strip units, if they have units\n",
    "    try:\n",
    "        unit_choice = z.unit\n",
    "        clear_s_E = s_E.value_in_unit(unit_choice)\n",
    "        clear_mu = mu.value_in_unit(unit_choice)\n",
    "        clear_z = z.value_in_unit(unit_choice)\n",
    "    except AttributeError:\n",
    "        clear_s_E = s_E\n",
    "        clear_mu = mu\n",
    "        clear_z = z\n",
    "    # If we've mixed things with units with things without units, the below will raise another attribute error\n",
    "    \n",
    "    # Compute log likelihood and likelihood\n",
    "    # Gaussian is (2*pi*s_E^2)^(-1/2) e^(-(z-mu)^2 /2s_E^2)\n",
    "    # log Gaussian is -1/2 * (log(2*pi) + 2*log(s_E)) -|z-mu|^2/(2s_E^2)\n",
    "    # Here we will ignore the constant term because it drops out when taking ratios of probabilities\n",
    "    loglike = 0.\n",
    "    like = 0.\n",
    "    for i, m in enumerate(clear_mu):\n",
    "        this_s_E = clear_s_E[i]\n",
    "        this_z = clear_z[i]\n",
    "        gauss_arg = - ((m-this_z)**2)/(2.*this_s_E**2)\n",
    "        loglike += gauss_arg - 0.5*np.log(2*np.pi*this_s_E**2)\n",
    "    \n",
    "    like = np.exp(loglike)\n",
    "    return loglike, like"
   ]
  },
  {
   "cell_type": "code",
   "execution_count": 5,
   "metadata": {
    "collapsed": false
   },
   "outputs": [
    {
     "name": "stdout",
     "output_type": "stream",
     "text": [
      "Loaded reference data.\n"
     ]
    }
   ],
   "source": [
    "# Load pre-generated data if already generated, otherwise re-generate\n",
    "if os.path.isfile('ref_energies.pickle') and os.path.isfile('topologies.pickle') and os.path.isfile('oemols_molnames.pickle'):\n",
    "    file = open('ref_energies.pickle', 'r')\n",
    "    ref_energies = pickle.load(file)\n",
    "    file.close()\n",
    "    file = open('topologies.pickle', 'r')\n",
    "    topologies = pickle.load(file)\n",
    "    file = open('oemols_molnames.pickle', 'r')\n",
    "    oemols, mol_names = pickle.load(file)\n",
    "    file.close()\n",
    "    print(\"Loaded reference data.\")\n",
    "else:\n",
    "    print(\"Re-generating reference data.\")\n",
    "    os.system('python generate_reference_data.py')\n",
    "    file = open('ref_energies.pickle', 'r')\n",
    "    ref_energies = pickle.load(file)\n",
    "    file.close()\n",
    "    file = open('topologies.pickle', 'r')\n",
    "    topologies = pickle.load(file)\n",
    "    file = open('oemols_molnames.pickle', 'r')\n",
    "    oemols, mol_names = pickle.load(file)\n",
    "    file.close()\n",
    "    print(\"Loaded reference data.\")\n",
    "\n",
    "if os.path.isfile('s_E_mean.pickle'):\n",
    "    file = open('s_E_mean.pickle', 'r')\n",
    "    s_E, mean_unc = pickle.load(file)\n",
    "    file.close()\n",
    "else:\n",
    "    print(\"Re-generating uncertainty data.\")\n",
    "    os.system('python get_uncertainties.py')\n",
    "    file = open('s_E_mean.pickle', 'r')\n",
    "    s_E, mean_unc = pickle.load(file)\n",
    "    file.close()"
   ]
  },
  {
   "cell_type": "code",
   "execution_count": 98,
   "metadata": {
    "collapsed": true
   },
   "outputs": [],
   "source": [
    "# Get force field data, parameter types, ranges and smirk labels\n",
    "# Get force field\n",
    "ffxml = get_data_filename('forcefield/Frosst_AlkEtOH.ffxml')\n",
    "ff = forcefield.ForceField(ffxml)\n",
    "# Define parameter range to consider\n",
    "prange = {'rmin_half':[0.0, 5.], 'epsilon':[0.0, 1.0], 'length':[0.0,2.0], 'k':[0.,2000.], 'angle':[0.,180.]}\n",
    "# What keys to modify for each smirks\n",
    "modify_key_by_type = {'n':['rmin_half', 'epsilon'],'b':['length', 'k'], 'a':['angle','k'],'t':['k','periodicity','phase'], 'i':['k','periodicity','phase']}\n",
    "# Figure out how to determine which molecules use the SMIRKS we're interested in\n",
    "labels = ff.labelMolecules(oemols,verbose=False)\n",
    "# Define molecule of interest\n",
    "mol =  oemols[1]\n",
    "top = topologies[1]\n",
    "mu_E = ref_energies[1] # mean_unc is the associated uncertainty\n",
    "# Create copy of the force field\n",
    "copyff = deepcopy(ff)\n",
    "copyff2 = deepcopy(ff)"
   ]
  },
  {
   "cell_type": "code",
   "execution_count": 99,
   "metadata": {
    "collapsed": false
   },
   "outputs": [
    {
     "data": {
      "text/html": [
       "<div>\n",
       "<table border=\"1\" class=\"dataframe\">\n",
       "  <thead>\n",
       "    <tr style=\"text-align: right;\">\n",
       "      <th></th>\n",
       "      <th>0</th>\n",
       "      <th>1</th>\n",
       "      <th>2</th>\n",
       "      <th>3</th>\n",
       "      <th>4</th>\n",
       "      <th>5</th>\n",
       "      <th>6</th>\n",
       "      <th>7</th>\n",
       "      <th>8</th>\n",
       "      <th>9</th>\n",
       "      <th>...</th>\n",
       "      <th>17</th>\n",
       "      <th>18</th>\n",
       "      <th>19</th>\n",
       "      <th>20</th>\n",
       "      <th>21</th>\n",
       "      <th>22</th>\n",
       "      <th>23</th>\n",
       "      <th>24</th>\n",
       "      <th>25</th>\n",
       "      <th>26</th>\n",
       "    </tr>\n",
       "  </thead>\n",
       "  <tbody>\n",
       "    <tr>\n",
       "      <th>HarmonicBondGenerator</th>\n",
       "      <td>([1, 2], b0001, [#6X4:1]-[#6X4:2])</td>\n",
       "      <td>([2, 5], b0004, [#6X4:1]-[#8&amp;X2&amp;H1:2])</td>\n",
       "      <td>([5, 13], b0006, [#8X2:1]-[#1:2])</td>\n",
       "      <td>([3, 11], b0006, [#8X2:1]-[#1:2])</td>\n",
       "      <td>([0, 7], b0002, [#6X4:1]-[#1:2])</td>\n",
       "      <td>([2, 10], b0002, [#6X4:1]-[#1:2])</td>\n",
       "      <td>([0, 6], b0002, [#6X4:1]-[#1:2])</td>\n",
       "      <td>([1, 8], b0002, [#6X4:1]-[#1:2])</td>\n",
       "      <td>([4, 12], b0006, [#8X2:1]-[#1:2])</td>\n",
       "      <td>([1, 9], b0002, [#6X4:1]-[#1:2])</td>\n",
       "      <td>...</td>\n",
       "      <td>None</td>\n",
       "      <td>None</td>\n",
       "      <td>None</td>\n",
       "      <td>None</td>\n",
       "      <td>None</td>\n",
       "      <td>None</td>\n",
       "      <td>None</td>\n",
       "      <td>None</td>\n",
       "      <td>None</td>\n",
       "      <td>None</td>\n",
       "    </tr>\n",
       "    <tr>\n",
       "      <th>PeriodicTorsionGenerator</th>\n",
       "      <td>([5, 2, 0, 7], t0012, [#1:1]-[#6X4:2]-[#6X4:3]...</td>\n",
       "      <td>([7, 0, 3, 11], t0002, [a,A:1]-[#6X4:2]-[#8X2:...</td>\n",
       "      <td>([1, 2, 0, 7], t0005, [#1:1]-[#6X4:2]-[#6X4:3]...</td>\n",
       "      <td>([4, 1, 2, 5], t0010, [#8X2:1]-[#6X4:2]-[#6X4:...</td>\n",
       "      <td>([5, 2, 1, 8], t0012, [#1:1]-[#6X4:2]-[#6X4:3]...</td>\n",
       "      <td>([0, 2, 1, 9], t0005, [#1:1]-[#6X4:2]-[#6X4:3]...</td>\n",
       "      <td>([6, 0, 2, 10], t0004, [#1:1]-[#6X4:2]-[#6X4:3...</td>\n",
       "      <td>([4, 1, 2, 10], t0012, [#1:1]-[#6X4:2]-[#6X4:3...</td>\n",
       "      <td>([8, 1, 4, 12], t0002, [a,A:1]-[#6X4:2]-[#8X2:...</td>\n",
       "      <td>([3, 0, 2, 5], t0010, [#8X2:1]-[#6X4:2]-[#6X4:...</td>\n",
       "      <td>...</td>\n",
       "      <td>([9, 1, 4, 12], t0002, [a,A:1]-[#6X4:2]-[#8X2:...</td>\n",
       "      <td>([5, 2, 1, 9], t0012, [#1:1]-[#6X4:2]-[#6X4:3]...</td>\n",
       "      <td>([5, 2, 0, 6], t0012, [#1:1]-[#6X4:2]-[#6X4:3]...</td>\n",
       "      <td>([1, 2, 0, 6], t0005, [#1:1]-[#6X4:2]-[#6X4:3]...</td>\n",
       "      <td>([1, 2, 0, 3], t0001, [a,A:1]-[#6X4:2]-[#6X4:3...</td>\n",
       "      <td>([3, 0, 2, 10], t0012, [#1:1]-[#6X4:2]-[#6X4:3...</td>\n",
       "      <td>([0, 2, 1, 8], t0005, [#1:1]-[#6X4:2]-[#6X4:3]...</td>\n",
       "      <td>([6, 0, 3, 11], t0002, [a,A:1]-[#6X4:2]-[#8X2:...</td>\n",
       "      <td>([2, 1, 4, 12], t0006, [#6X4:1]-[#6X4:2]-[#8X2...</td>\n",
       "      <td>([10, 2, 5, 13], t0002, [a,A:1]-[#6X4:2]-[#8X2...</td>\n",
       "    </tr>\n",
       "    <tr>\n",
       "      <th>NonbondedGenerator</th>\n",
       "      <td>([0], n0008, [#6X4:1])</td>\n",
       "      <td>([1], n0008, [#6X4:1])</td>\n",
       "      <td>([2], n0008, [#6X4:1])</td>\n",
       "      <td>([8], n0003, [$([#1]-[#6]-[#7,#8,#9,#16,#17,#3...</td>\n",
       "      <td>([3], n0011, [#8X2+0$(*-[#1]):1])</td>\n",
       "      <td>([9], n0003, [$([#1]-[#6]-[#7,#8,#9,#16,#17,#3...</td>\n",
       "      <td>([4], n0011, [#8X2+0$(*-[#1]):1])</td>\n",
       "      <td>([10], n0003, [$([#1]-[#6]-[#7,#8,#9,#16,#17,#...</td>\n",
       "      <td>([5], n0011, [#8X2+0$(*-[#1]):1])</td>\n",
       "      <td>([11], n0006, [#1$(*-[#8]):1])</td>\n",
       "      <td>...</td>\n",
       "      <td>None</td>\n",
       "      <td>None</td>\n",
       "      <td>None</td>\n",
       "      <td>None</td>\n",
       "      <td>None</td>\n",
       "      <td>None</td>\n",
       "      <td>None</td>\n",
       "      <td>None</td>\n",
       "      <td>None</td>\n",
       "      <td>None</td>\n",
       "    </tr>\n",
       "    <tr>\n",
       "      <th>HarmonicAngleGenerator</th>\n",
       "      <td>([1, 4, 12], a0005, [#6X4:1]-[#8X2:2]-[#1:3])</td>\n",
       "      <td>([3, 0, 7], a0001, [a,A:1]-[#6X4:2]-[a,A:3])</td>\n",
       "      <td>([2, 0, 3], a0001, [a,A:1]-[#6X4:2]-[a,A:3])</td>\n",
       "      <td>([2, 5, 13], a0005, [#6X4:1]-[#8X2:2]-[#1:3])</td>\n",
       "      <td>([4, 1, 8], a0001, [a,A:1]-[#6X4:2]-[a,A:3])</td>\n",
       "      <td>([8, 1, 9], a0002, [#1:1]-[#6X4:2]-[#1:3])</td>\n",
       "      <td>([2, 0, 7], a0001, [a,A:1]-[#6X4:2]-[a,A:3])</td>\n",
       "      <td>([0, 3, 11], a0005, [#6X4:1]-[#8X2:2]-[#1:3])</td>\n",
       "      <td>([2, 1, 8], a0001, [a,A:1]-[#6X4:2]-[a,A:3])</td>\n",
       "      <td>([4, 1, 9], a0001, [a,A:1]-[#6X4:2]-[a,A:3])</td>\n",
       "      <td>...</td>\n",
       "      <td>([5, 2, 10], a0001, [a,A:1]-[#6X4:2]-[a,A:3])</td>\n",
       "      <td>([0, 2, 1], a0003, [#6X4:1]-[#6X4:2]-[#6X4:3])</td>\n",
       "      <td>([3, 0, 6], a0001, [a,A:1]-[#6X4:2]-[a,A:3])</td>\n",
       "      <td>([1, 2, 5], a0001, [a,A:1]-[#6X4:2]-[a,A:3])</td>\n",
       "      <td>None</td>\n",
       "      <td>None</td>\n",
       "      <td>None</td>\n",
       "      <td>None</td>\n",
       "      <td>None</td>\n",
       "      <td>None</td>\n",
       "    </tr>\n",
       "  </tbody>\n",
       "</table>\n",
       "<p>4 rows × 27 columns</p>\n",
       "</div>"
      ],
      "text/plain": [
       "                                                                         0   \\\n",
       "HarmonicBondGenerator                    ([1, 2], b0001, [#6X4:1]-[#6X4:2])   \n",
       "PeriodicTorsionGenerator  ([5, 2, 0, 7], t0012, [#1:1]-[#6X4:2]-[#6X4:3]...   \n",
       "NonbondedGenerator                                   ([0], n0008, [#6X4:1])   \n",
       "HarmonicAngleGenerator        ([1, 4, 12], a0005, [#6X4:1]-[#8X2:2]-[#1:3])   \n",
       "\n",
       "                                                                         1   \\\n",
       "HarmonicBondGenerator                ([2, 5], b0004, [#6X4:1]-[#8&X2&H1:2])   \n",
       "PeriodicTorsionGenerator  ([7, 0, 3, 11], t0002, [a,A:1]-[#6X4:2]-[#8X2:...   \n",
       "NonbondedGenerator                                   ([1], n0008, [#6X4:1])   \n",
       "HarmonicAngleGenerator         ([3, 0, 7], a0001, [a,A:1]-[#6X4:2]-[a,A:3])   \n",
       "\n",
       "                                                                         2   \\\n",
       "HarmonicBondGenerator                     ([5, 13], b0006, [#8X2:1]-[#1:2])   \n",
       "PeriodicTorsionGenerator  ([1, 2, 0, 7], t0005, [#1:1]-[#6X4:2]-[#6X4:3]...   \n",
       "NonbondedGenerator                                   ([2], n0008, [#6X4:1])   \n",
       "HarmonicAngleGenerator         ([2, 0, 3], a0001, [a,A:1]-[#6X4:2]-[a,A:3])   \n",
       "\n",
       "                                                                         3   \\\n",
       "HarmonicBondGenerator                     ([3, 11], b0006, [#8X2:1]-[#1:2])   \n",
       "PeriodicTorsionGenerator  ([4, 1, 2, 5], t0010, [#8X2:1]-[#6X4:2]-[#6X4:...   \n",
       "NonbondedGenerator        ([8], n0003, [$([#1]-[#6]-[#7,#8,#9,#16,#17,#3...   \n",
       "HarmonicAngleGenerator        ([2, 5, 13], a0005, [#6X4:1]-[#8X2:2]-[#1:3])   \n",
       "\n",
       "                                                                         4   \\\n",
       "HarmonicBondGenerator                      ([0, 7], b0002, [#6X4:1]-[#1:2])   \n",
       "PeriodicTorsionGenerator  ([5, 2, 1, 8], t0012, [#1:1]-[#6X4:2]-[#6X4:3]...   \n",
       "NonbondedGenerator                        ([3], n0011, [#8X2+0$(*-[#1]):1])   \n",
       "HarmonicAngleGenerator         ([4, 1, 8], a0001, [a,A:1]-[#6X4:2]-[a,A:3])   \n",
       "\n",
       "                                                                         5   \\\n",
       "HarmonicBondGenerator                     ([2, 10], b0002, [#6X4:1]-[#1:2])   \n",
       "PeriodicTorsionGenerator  ([0, 2, 1, 9], t0005, [#1:1]-[#6X4:2]-[#6X4:3]...   \n",
       "NonbondedGenerator        ([9], n0003, [$([#1]-[#6]-[#7,#8,#9,#16,#17,#3...   \n",
       "HarmonicAngleGenerator           ([8, 1, 9], a0002, [#1:1]-[#6X4:2]-[#1:3])   \n",
       "\n",
       "                                                                         6   \\\n",
       "HarmonicBondGenerator                      ([0, 6], b0002, [#6X4:1]-[#1:2])   \n",
       "PeriodicTorsionGenerator  ([6, 0, 2, 10], t0004, [#1:1]-[#6X4:2]-[#6X4:3...   \n",
       "NonbondedGenerator                        ([4], n0011, [#8X2+0$(*-[#1]):1])   \n",
       "HarmonicAngleGenerator         ([2, 0, 7], a0001, [a,A:1]-[#6X4:2]-[a,A:3])   \n",
       "\n",
       "                                                                         7   \\\n",
       "HarmonicBondGenerator                      ([1, 8], b0002, [#6X4:1]-[#1:2])   \n",
       "PeriodicTorsionGenerator  ([4, 1, 2, 10], t0012, [#1:1]-[#6X4:2]-[#6X4:3...   \n",
       "NonbondedGenerator        ([10], n0003, [$([#1]-[#6]-[#7,#8,#9,#16,#17,#...   \n",
       "HarmonicAngleGenerator        ([0, 3, 11], a0005, [#6X4:1]-[#8X2:2]-[#1:3])   \n",
       "\n",
       "                                                                         8   \\\n",
       "HarmonicBondGenerator                     ([4, 12], b0006, [#8X2:1]-[#1:2])   \n",
       "PeriodicTorsionGenerator  ([8, 1, 4, 12], t0002, [a,A:1]-[#6X4:2]-[#8X2:...   \n",
       "NonbondedGenerator                        ([5], n0011, [#8X2+0$(*-[#1]):1])   \n",
       "HarmonicAngleGenerator         ([2, 1, 8], a0001, [a,A:1]-[#6X4:2]-[a,A:3])   \n",
       "\n",
       "                                                                         9   \\\n",
       "HarmonicBondGenerator                      ([1, 9], b0002, [#6X4:1]-[#1:2])   \n",
       "PeriodicTorsionGenerator  ([3, 0, 2, 5], t0010, [#8X2:1]-[#6X4:2]-[#6X4:...   \n",
       "NonbondedGenerator                           ([11], n0006, [#1$(*-[#8]):1])   \n",
       "HarmonicAngleGenerator         ([4, 1, 9], a0001, [a,A:1]-[#6X4:2]-[a,A:3])   \n",
       "\n",
       "                                                ...                          \\\n",
       "HarmonicBondGenerator                           ...                           \n",
       "PeriodicTorsionGenerator                        ...                           \n",
       "NonbondedGenerator                              ...                           \n",
       "HarmonicAngleGenerator                          ...                           \n",
       "\n",
       "                                                                         17  \\\n",
       "HarmonicBondGenerator                                                  None   \n",
       "PeriodicTorsionGenerator  ([9, 1, 4, 12], t0002, [a,A:1]-[#6X4:2]-[#8X2:...   \n",
       "NonbondedGenerator                                                     None   \n",
       "HarmonicAngleGenerator        ([5, 2, 10], a0001, [a,A:1]-[#6X4:2]-[a,A:3])   \n",
       "\n",
       "                                                                         18  \\\n",
       "HarmonicBondGenerator                                                  None   \n",
       "PeriodicTorsionGenerator  ([5, 2, 1, 9], t0012, [#1:1]-[#6X4:2]-[#6X4:3]...   \n",
       "NonbondedGenerator                                                     None   \n",
       "HarmonicAngleGenerator       ([0, 2, 1], a0003, [#6X4:1]-[#6X4:2]-[#6X4:3])   \n",
       "\n",
       "                                                                         19  \\\n",
       "HarmonicBondGenerator                                                  None   \n",
       "PeriodicTorsionGenerator  ([5, 2, 0, 6], t0012, [#1:1]-[#6X4:2]-[#6X4:3]...   \n",
       "NonbondedGenerator                                                     None   \n",
       "HarmonicAngleGenerator         ([3, 0, 6], a0001, [a,A:1]-[#6X4:2]-[a,A:3])   \n",
       "\n",
       "                                                                         20  \\\n",
       "HarmonicBondGenerator                                                  None   \n",
       "PeriodicTorsionGenerator  ([1, 2, 0, 6], t0005, [#1:1]-[#6X4:2]-[#6X4:3]...   \n",
       "NonbondedGenerator                                                     None   \n",
       "HarmonicAngleGenerator         ([1, 2, 5], a0001, [a,A:1]-[#6X4:2]-[a,A:3])   \n",
       "\n",
       "                                                                         21  \\\n",
       "HarmonicBondGenerator                                                  None   \n",
       "PeriodicTorsionGenerator  ([1, 2, 0, 3], t0001, [a,A:1]-[#6X4:2]-[#6X4:3...   \n",
       "NonbondedGenerator                                                     None   \n",
       "HarmonicAngleGenerator                                                 None   \n",
       "\n",
       "                                                                         22  \\\n",
       "HarmonicBondGenerator                                                  None   \n",
       "PeriodicTorsionGenerator  ([3, 0, 2, 10], t0012, [#1:1]-[#6X4:2]-[#6X4:3...   \n",
       "NonbondedGenerator                                                     None   \n",
       "HarmonicAngleGenerator                                                 None   \n",
       "\n",
       "                                                                         23  \\\n",
       "HarmonicBondGenerator                                                  None   \n",
       "PeriodicTorsionGenerator  ([0, 2, 1, 8], t0005, [#1:1]-[#6X4:2]-[#6X4:3]...   \n",
       "NonbondedGenerator                                                     None   \n",
       "HarmonicAngleGenerator                                                 None   \n",
       "\n",
       "                                                                         24  \\\n",
       "HarmonicBondGenerator                                                  None   \n",
       "PeriodicTorsionGenerator  ([6, 0, 3, 11], t0002, [a,A:1]-[#6X4:2]-[#8X2:...   \n",
       "NonbondedGenerator                                                     None   \n",
       "HarmonicAngleGenerator                                                 None   \n",
       "\n",
       "                                                                         25  \\\n",
       "HarmonicBondGenerator                                                  None   \n",
       "PeriodicTorsionGenerator  ([2, 1, 4, 12], t0006, [#6X4:1]-[#6X4:2]-[#8X2...   \n",
       "NonbondedGenerator                                                     None   \n",
       "HarmonicAngleGenerator                                                 None   \n",
       "\n",
       "                                                                         26  \n",
       "HarmonicBondGenerator                                                  None  \n",
       "PeriodicTorsionGenerator  ([10, 2, 5, 13], t0002, [a,A:1]-[#6X4:2]-[#8X2...  \n",
       "NonbondedGenerator                                                     None  \n",
       "HarmonicAngleGenerator                                                 None  \n",
       "\n",
       "[4 rows x 27 columns]"
      ]
     },
     "execution_count": 99,
     "metadata": {},
     "output_type": "execute_result"
    }
   ],
   "source": [
    "molecule = pd.DataFrame.from_dict(labels[1],orient='index')\n",
    "molecule"
   ]
  },
  {
   "cell_type": "code",
   "execution_count": 100,
   "metadata": {
    "collapsed": false
   },
   "outputs": [
    {
     "data": {
      "text/html": [
       "<div>\n",
       "<table border=\"1\" class=\"dataframe\">\n",
       "  <thead>\n",
       "    <tr style=\"text-align: right;\">\n",
       "      <th></th>\n",
       "      <th>property</th>\n",
       "    </tr>\n",
       "  </thead>\n",
       "  <tbody>\n",
       "    <tr>\n",
       "      <th>parent_id</th>\n",
       "      <td>n0007</td>\n",
       "    </tr>\n",
       "    <tr>\n",
       "      <th>smirks</th>\n",
       "      <td>[#6X4:1]</td>\n",
       "    </tr>\n",
       "    <tr>\n",
       "      <th>id</th>\n",
       "      <td>n0008</td>\n",
       "    </tr>\n",
       "    <tr>\n",
       "      <th>epsilon</th>\n",
       "      <td>0.1094</td>\n",
       "    </tr>\n",
       "    <tr>\n",
       "      <th>rmin_half</th>\n",
       "      <td>1.9080</td>\n",
       "    </tr>\n",
       "  </tbody>\n",
       "</table>\n",
       "</div>"
      ],
      "text/plain": [
       "           property\n",
       "parent_id     n0007\n",
       "smirks     [#6X4:1]\n",
       "id            n0008\n",
       "epsilon      0.1094\n",
       "rmin_half    1.9080"
      ]
     },
     "execution_count": 100,
     "metadata": {},
     "output_type": "execute_result"
    }
   ],
   "source": [
    "params = copyff.getParameter(smirks='[#6X4:1]')\n",
    "backup = params.copy()\n",
    "parm_table = pd.DataFrame.from_dict(params,orient='index')\n",
    "parm_table.columns = ['property']\n",
    "parm_table"
   ]
  },
  {
   "cell_type": "code",
   "execution_count": 101,
   "metadata": {
    "collapsed": true
   },
   "outputs": [],
   "source": [
    "# calculate variables to be plotted\n",
    "epsilons, E_eps = calculate_energies('[#6X4:1]', 'epsilon',\n",
    "                       modify_key_by_type,\n",
    "                       prange, 300,\n",
    "                       copyff, mol, top)\n",
    "\n",
    "rmin_halfs, E_rhs = calculate_energies('[#6X4:1]', 'rmin_half',\n",
    "                       modify_key_by_type,\n",
    "                       prange, 300,\n",
    "                       copyff2, mol, top)\n"
   ]
  },
  {
   "cell_type": "code",
   "execution_count": 102,
   "metadata": {
    "collapsed": false
   },
   "outputs": [
    {
     "data": {
      "image/png": "[encoded data removed]",
      "text/plain": [
       "<matplotlib.figure.Figure at 0x120df1310>"
      ]
     },
     "metadata": {},
     "output_type": "display_data"
    }
   ],
   "source": [
    "# Plot energies\n",
    "fig = pl.figure()\n",
    "\n",
    "ax1 = fig.add_subplot(121)\n",
    "ax1.plot(epsilons, E_eps, 'bo')\n",
    "ax1.set_xlabel(r'$\\epsilon$')\n",
    "ax1.set_ylabel('Energy')\n",
    "\n",
    "ax2 = fig.add_subplot(122)\n",
    "ax2.plot(rmin_halfs, E_rhs, 'ro')\n",
    "ax2.set_xlabel(r'rmin_half')\n",
    "ax2.set_ylabel('Energy')\n",
    "\n",
    "pl.tight_layout()"
   ]
  },
  {
   "cell_type": "code",
   "execution_count": 103,
   "metadata": {
    "collapsed": false
   },
   "outputs": [],
   "source": [
    "# Calculate likelihoods\n",
    "# Storage\n",
    "likelihood_eps = np.zeros(len(epsilons))\n",
    "likelihood_rhs = np.zeros(len(rmin_halfs))\n",
    "\n",
    "# likelihood distribution of bond lengths\n",
    "for idx, energy in enumerate(E_eps):\n",
    "    loglike, like = log_likelihood([energy],[mu_E],[mean_unc])\n",
    "    likelihood_eps[idx] = like\n",
    "    \n",
    "# likelihood distribution of bond ks\n",
    "for idx, energy in enumerate(E_rhs):\n",
    "    loglike, like = log_likelihood([energy],[mu_E],[mean_unc])\n",
    "    likelihood_rhs[idx] = like"
   ]
  },
  {
   "cell_type": "code",
   "execution_count": 104,
   "metadata": {
    "collapsed": false
   },
   "outputs": [
    {
     "data": {
      "image/png": "[encoded data removed]",
      "text/plain": [
       "<matplotlib.figure.Figure at 0x1239ddfd0>"
      ]
     },
     "metadata": {},
     "output_type": "display_data"
    }
   ],
   "source": [
    "# Plot likelihoods\n",
    "fig = pl.figure()\n",
    "\n",
    "ax1 = fig.add_subplot(121)\n",
    "ax1.plot(epsilons, likelihood_eps, 'bo')\n",
    "ax1.set_xlabel(r'$\\epsilon$')\n",
    "ax1.set_ylabel('likelihood')\n",
    "\n",
    "ax2 = fig.add_subplot(122)\n",
    "ax2.plot(rmin_halfs, likelihood_rhs, 'ro')\n",
    "ax2.set_xlabel(r'rmin_half')\n",
    "ax2.set_ylabel('likelihood')\n",
    "\n",
    "pl.tight_layout()"
   ]
  },
  {
   "cell_type": "code",
   "execution_count": 26,
   "metadata": {
    "collapsed": true
   },
   "outputs": [],
   "source": [
    "en_axis = np.linspace(mu_E-3*mean_unc,mu_E+3*mean_unc,200)\n",
    "likelihoods = gaussian(mu_E,mean_unc,en_axis)"
   ]
  },
  {
   "cell_type": "code",
   "execution_count": 105,
   "metadata": {
    "collapsed": false
   },
   "outputs": [
    {
     "data": {
      "text/plain": [
       "92"
      ]
     },
     "execution_count": 105,
     "metadata": {},
     "output_type": "execute_result"
    }
   ],
   "source": [
    "np.argmax(likelihood_rhs,axis=0)"
   ]
  },
  {
   "cell_type": "code",
   "execution_count": 106,
   "metadata": {
    "collapsed": false
   },
   "outputs": [
    {
     "data": {
      "text/plain": [
       "2.5585284280936453"
      ]
     },
     "execution_count": 106,
     "metadata": {},
     "output_type": "execute_result"
    }
   ],
   "source": [
    "rmin_halfs[153]"
   ]
  },
  {
   "cell_type": "code",
   "execution_count": null,
   "metadata": {
    "collapsed": false
   },
   "outputs": [],
   "source": []
  },
  {
   "cell_type": "code",
   "execution_count": null,
   "metadata": {
    "collapsed": true
   },
   "outputs": [],
   "source": []
  },
  {
   "cell_type": "code",
   "execution_count": null,
   "metadata": {
    "collapsed": true
   },
   "outputs": [],
   "source": []
  }
 ],
 "metadata": {
  "kernelspec": {
   "display_name": "Python 2",
   "language": "python",
   "name": "python2"
  },
  "language_info": {
   "codemirror_mode": {
    "name": "ipython",
    "version": 2
   },
   "file_extension": ".py",
   "mimetype": "text/x-python",
   "name": "python",
   "nbconvert_exporter": "python",
   "pygments_lexer": "ipython2",
   "version": "2.7.12"
  }
 },
 "nbformat": 4,
 "nbformat_minor": 0
}
